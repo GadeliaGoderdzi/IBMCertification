{
 "cells": [
  {
   "cell_type": "markdown",
   "id": "177c2e92-b901-4eae-85a2-a122d24fa446",
   "metadata": {},
   "source": [
    "<h1>Data Science Tools and Ecosystem</h1>"
   ]
  },
  {
   "cell_type": "markdown",
   "id": "2461e9ef-0d05-4143-9917-2cecee9e0a57",
   "metadata": {},
   "source": [
    "In this notebook, Data Science Tools and Ecosystems are summarized. "
   ]
  },
  {
   "cell_type": "markdown",
   "id": "b8f56646-2919-4ebc-be4b-96b39b659311",
   "metadata": {},
   "source": [
    "Some of the popular languages that Data Scientists use are:\n",
    "1. Python\n",
    "<li>R</li>\n",
    "<li>Julia</li>\n",
    "<li>SQL</li>\n",
    "<li>C/C++</li>"
   ]
  },
  {
   "cell_type": "markdown",
   "id": "b0511447-498f-4afe-b7b2-e58800653e3c",
   "metadata": {},
   "source": [
    "Some of the commonly used libraries used by Data Scientists include:\n",
    "1. Matplotlib\n",
    "2. Seaborn\n",
    "3. NumPy\n",
    "4. Keras\n",
    "5. TensorFlow\n",
    "6. NLTK"
   ]
  },
  {
   "cell_type": "markdown",
   "id": "24b74efd-538b-420c-9b42-a0baba50b891",
   "metadata": {},
   "source": [
    "|Data Science Tools|\n",
    "|-----|\n",
    "|Python|\n",
    "|R|\n",
    "|TensorFlow|\n"
   ]
  },
  {
   "cell_type": "markdown",
   "id": "819786fe-d297-463d-82a8-5426cc5af597",
   "metadata": {},
   "source": [
    "<h3>Below are a few examples of evaluating arithmetic expressions in Python.</h3>"
   ]
  },
  {
   "cell_type": "code",
   "execution_count": 25,
   "id": "7e7127aa-205a-4412-975b-c81f5e3b33f6",
   "metadata": {},
   "outputs": [
    {
     "data": {
      "text/plain": [
       "17"
      ]
     },
     "execution_count": 25,
     "metadata": {},
     "output_type": "execute_result"
    }
   ],
   "source": [
    "(3*4)+5\n",
    "#this is a simple arithmetic expression to multiply then add integers"
   ]
  },
  {
   "cell_type": "code",
   "execution_count": 31,
   "id": "0de88c28-1fc7-4e66-b25c-f11179282eab",
   "metadata": {},
   "outputs": [
    {
     "name": "stdout",
     "output_type": "stream",
     "text": [
      "3.3333333333333335\n"
     ]
    }
   ],
   "source": [
    "min = 200\n",
    "hr = min/60\n",
    "print(hr)\n",
    "#This will convert 200 minutes to hours by dividing by 60. "
   ]
  },
  {
   "cell_type": "markdown",
   "id": "c2c27d56-dbf5-470e-af39-a233b35cf5a3",
   "metadata": {},
   "source": [
    "**Objectives**\n",
    "<li>Python</li>\n",
    "<li>R</li>\n",
    "<li>TensorFlow</li>"
   ]
  },
  {
   "cell_type": "markdown",
   "id": "0254664e-17af-4cd6-a452-1faba74230fa",
   "metadata": {},
   "source": [
    "<h2>Author: Goderdzi Gadelia</h2>"
   ]
  },
  {
   "cell_type": "code",
   "execution_count": null,
   "id": "828ef36b-b00f-4edf-9c70-08470abc15aa",
   "metadata": {},
   "outputs": [],
   "source": []
  }
 ],
 "metadata": {
  "kernelspec": {
   "display_name": "Python 3 (ipykernel)",
   "language": "python",
   "name": "python3"
  },
  "language_info": {
   "codemirror_mode": {
    "name": "ipython",
    "version": 3
   },
   "file_extension": ".py",
   "mimetype": "text/x-python",
   "name": "python",
   "nbconvert_exporter": "python",
   "pygments_lexer": "ipython3",
   "version": "3.12.4"
  }
 },
 "nbformat": 4,
 "nbformat_minor": 5
}
